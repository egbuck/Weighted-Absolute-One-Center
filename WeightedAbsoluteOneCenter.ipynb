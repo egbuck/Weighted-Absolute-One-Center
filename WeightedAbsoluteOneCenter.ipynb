{
 "cells": [
  {
   "cell_type": "code",
   "execution_count": 1,
   "metadata": {
    "collapsed": true
   },
   "outputs": [],
   "source": [
    "# import necessary packages\n",
    "import pandas as pd\n",
    "import numpy as np"
   ]
  },
  {
   "cell_type": "code",
   "execution_count": 2,
   "metadata": {
    "collapsed": true
   },
   "outputs": [],
   "source": [
    "# Function to calculate Beta_ij\n",
    "def Beta(A, B, Demand, Distance):\n",
    "    return (Demand[A] * Demand[B] * Distance.loc[A, B]) / (Demand[A] + Demand[B])"
   ]
  },
  {
   "cell_type": "code",
   "execution_count": 3,
   "metadata": {},
   "outputs": [
    {
     "name": "stdout",
     "output_type": "stream",
     "text": [
      "A     8\n",
      "B     6\n",
      "C    23\n",
      "D    50\n",
      "E    40\n",
      "F    13\n",
      "G    25\n",
      "H    12\n",
      "dtype: int64\n",
      "    A   B   C   D   E   F   G   H\n",
      "A   0  71  52  15  35  28  57  72\n",
      "B  71   0  19  56  36  69  58  73\n",
      "C  52  19   0  37  17  50  39  54\n",
      "D  15  56  37   0  20  13  42  57\n",
      "E  35  36  17  20   0  33  22  37\n",
      "F  28  69  50  13  33   0  55  70\n",
      "G  57  58  39  42  22  55   0  15\n",
      "H  72  73  54  57  37  70  15   0\n"
     ]
    }
   ],
   "source": [
    "# Initialize Demand Series and Shortest Path Distance Dataframe\n",
    "nodes = ['A', 'B', 'C', 'D', 'E', 'F', 'G', 'H']\n",
    "Demand = pd.Series([8, 6, 23, 50, 40, 13, 25, 12], index = nodes)\n",
    "\n",
    "shortDist = np.array([[ 0, 71, 52, 15, 35, 28, 57, 72],  # Row A\n",
    "                      [71,  0, 19, 56, 36, 69, 58, 73],  # Row B\n",
    "                      [52, 19,  0, 37, 17, 50, 39, 54],  # Row C\n",
    "                      [15, 56, 37,  0, 20, 13, 42, 57],  # Row D\n",
    "                      [35, 36, 17, 20,  0, 33, 22, 37],  # Row E\n",
    "                      [28, 69, 50, 13, 33,  0, 55, 70],  # Row F\n",
    "                      [57, 58, 39, 42, 22, 55,  0, 15],  # Row G\n",
    "                      [72, 73, 54, 57, 37, 70, 15,  0]]) # Row H\n",
    "Distance = pd.DataFrame(shortDist, index = nodes, columns = nodes)\n",
    "\n",
    "print(Demand)\n",
    "print(Distance)"
   ]
  },
  {
   "cell_type": "code",
   "execution_count": 4,
   "metadata": {},
   "outputs": [
    {
     "name": "stdout",
     "output_type": "stream",
     "text": [
      "        A       B       C       D       E       F       G       H\n",
      "A    0.00  243.43  308.65  103.45  233.33  138.67  345.45  345.60\n",
      "B  243.43    0.00   90.41  300.00  187.83  283.26  280.65  292.00\n",
      "C  308.65   90.41    0.00  582.88  248.25  415.28  467.19  425.83\n",
      "D  103.45  300.00  582.88    0.00  444.44  134.13  700.00  551.61\n",
      "E  233.33  187.83  248.25  444.44    0.00  323.77  338.46  341.54\n",
      "F  138.67  283.26  415.28  134.13  323.77    0.00  470.39  436.80\n",
      "G  345.45  280.65  467.19  700.00  338.46  470.39    0.00  121.62\n",
      "H  345.60  292.00  425.83  551.61  341.54  436.80  121.62    0.00\n"
     ]
    }
   ],
   "source": [
    "# Create Beta Matrix\n",
    "BetaMatrix = pd.DataFrame(0, index = nodes, columns = nodes)\n",
    "for rowIndex, row in Distance.iterrows():\n",
    "    for colIndex, val in row.iteritems():\n",
    "        b_ij = Beta(rowIndex, colIndex, Demand, Distance)\n",
    "        BetaMatrix.loc[rowIndex, colIndex] = b_ij\n",
    "        \n",
    "pd.set_option('precision', 2)  # Set number of decimal places for printing\n",
    "print(BetaMatrix)"
   ]
  },
  {
   "cell_type": "code",
   "execution_count": 5,
   "metadata": {},
   "outputs": [
    {
     "name": "stdout",
     "output_type": "stream",
     "text": [
      "700.0\n",
      "Row G      Column D\n",
      "Row D      Column G\n"
     ]
    }
   ],
   "source": [
    "# Find Maximum Value and Location\n",
    "print(BetaMatrix.max().max())\n",
    "colMaxID = BetaMatrix.max().idxmax()\n",
    "rowMaxID = BetaMatrix.loc[:, str(colMaxID)].idxmax()\n",
    "print(\"Row %s      Column %s\" %(rowMaxID, colMaxID))\n",
    "print(\"Row %s      Column %s\" %(colMaxID, rowMaxID))"
   ]
  },
  {
   "cell_type": "code",
   "execution_count": 6,
   "metadata": {},
   "outputs": [
    {
     "name": "stdout",
     "output_type": "stream",
     "text": [
      "Distance from G:  28.00\n",
      "Distance from D:  14.00\n"
     ]
    }
   ],
   "source": [
    "# Determine Absolute Location (on unique path from rowMaxID to colMaxID)\n",
    "print( \"Distance from %s:  %.2f\" %(rowMaxID, \n",
    "                                    (Demand[colMaxID] * Distance.loc[rowMaxID, colMaxID]) / \n",
    "                                    (Demand[rowMaxID] + Demand[colMaxID])) )\n",
    "print( \"Distance from %s:  %.2f\" %(colMaxID,  \n",
    "                                    (Demand[rowMaxID] * Distance.loc[rowMaxID, colMaxID]) /  \n",
    "                                    (Demand[rowMaxID] + Demand[colMaxID])) )"
   ]
  }
 ],
 "metadata": {
  "kernelspec": {
   "display_name": "Python 3",
   "language": "python",
   "name": "python3"
  },
  "language_info": {
   "codemirror_mode": {
    "name": "ipython",
    "version": 3
   },
   "file_extension": ".py",
   "mimetype": "text/x-python",
   "name": "python",
   "nbconvert_exporter": "python",
   "pygments_lexer": "ipython3",
   "version": "3.6.3"
  }
 },
 "nbformat": 4,
 "nbformat_minor": 2
}
